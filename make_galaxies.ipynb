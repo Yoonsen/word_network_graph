{
 "cells": [
  {
   "cell_type": "code",
   "execution_count": 1,
   "id": "4b8bf88b-566b-4a51-9480-4a8797af599d",
   "metadata": {},
   "outputs": [],
   "source": [
    "import sqlite3\n",
    "import pandas as pd"
   ]
  },
  {
   "cell_type": "code",
   "execution_count": 105,
   "id": "09243f2a-b0dc-43fc-aaa8-b6e06914b6cd",
   "metadata": {},
   "outputs": [],
   "source": [
    "db_bok = \"galakse_bok.db\"\n",
    "db_avis = \"galakse_avis.db\"\n",
    "db_all = \"galakser.db\""
   ]
  },
  {
   "cell_type": "code",
   "execution_count": 3,
   "id": "51aec6b1-1447-4faf-b7e9-ccf19c771067",
   "metadata": {},
   "outputs": [],
   "source": [
    "def query(db, sql, param=()):\n",
    "    \"\"\" Query a sqlitedatabase with sql and param\"\"\"\n",
    "    with sqlite3.connect(db) as con:\n",
    "        cur = con.cursor()\n",
    "        cur.execute(sql, param)\n",
    "    return cur.fetchall()"
   ]
  },
  {
   "cell_type": "markdown",
   "id": "ec722a60-89a4-4f0e-957e-4376e4506a98",
   "metadata": {},
   "source": [
    "# read"
   ]
  },
  {
   "cell_type": "code",
   "execution_count": 156,
   "id": "56a6a4aa-de6c-42aa-9474-ee6d1026e0d8",
   "metadata": {},
   "outputs": [],
   "source": [
    "bøker = pd.read_csv(\"../../ngram_2021_coordination/coord-bok.csv\", header = None, index_col = 0)"
   ]
  },
  {
   "cell_type": "code",
   "execution_count": 82,
   "id": "9b3490ed-76bc-401b-a0ae-7aa15b4498dd",
   "metadata": {},
   "outputs": [],
   "source": [
    "aviser = pd.read_csv(\"../../ngram_2021_coordination/coord-avis.csv\", header = None) "
   ]
  },
  {
   "cell_type": "code",
   "execution_count": 49,
   "id": "2ac5c48d-0dad-47e9-829a-38dfe395343e",
   "metadata": {},
   "outputs": [],
   "source": [
    "bøker.columns = ['lang', 'first', 'coord', 'third', 'freq']"
   ]
  },
  {
   "cell_type": "code",
   "execution_count": 157,
   "id": "6739c316-b92f-49e0-b21f-dd5c570d5091",
   "metadata": {},
   "outputs": [
    {
     "data": {
      "text/html": [
       "<div>\n",
       "<style scoped>\n",
       "    .dataframe tbody tr th:only-of-type {\n",
       "        vertical-align: middle;\n",
       "    }\n",
       "\n",
       "    .dataframe tbody tr th {\n",
       "        vertical-align: top;\n",
       "    }\n",
       "\n",
       "    .dataframe thead th {\n",
       "        text-align: right;\n",
       "    }\n",
       "</style>\n",
       "<table border=\"1\" class=\"dataframe\">\n",
       "  <thead>\n",
       "    <tr style=\"text-align: right;\">\n",
       "      <th></th>\n",
       "      <th>1</th>\n",
       "      <th>2</th>\n",
       "      <th>3</th>\n",
       "      <th>4</th>\n",
       "    </tr>\n",
       "    <tr>\n",
       "      <th>0</th>\n",
       "      <th></th>\n",
       "      <th></th>\n",
       "      <th></th>\n",
       "      <th></th>\n",
       "    </tr>\n",
       "  </thead>\n",
       "  <tbody>\n",
       "    <tr>\n",
       "      <th>nno</th>\n",
       "      <td>!</td>\n",
       "      <td>og</td>\n",
       "      <td>!</td>\n",
       "      <td>4</td>\n",
       "    </tr>\n",
       "    <tr>\n",
       "      <th>nno</th>\n",
       "      <td>!</td>\n",
       "      <td>og</td>\n",
       "      <td>/</td>\n",
       "      <td>4</td>\n",
       "    </tr>\n",
       "    <tr>\n",
       "      <th>nno</th>\n",
       "      <td>!</td>\n",
       "      <td>og</td>\n",
       "      <td>60</td>\n",
       "      <td>4</td>\n",
       "    </tr>\n",
       "    <tr>\n",
       "      <th>nno</th>\n",
       "      <td>!</td>\n",
       "      <td>og</td>\n",
       "      <td>70</td>\n",
       "      <td>4</td>\n",
       "    </tr>\n",
       "    <tr>\n",
       "      <th>nno</th>\n",
       "      <td>!</td>\n",
       "      <td>og</td>\n",
       "      <td>De</td>\n",
       "      <td>4</td>\n",
       "    </tr>\n",
       "    <tr>\n",
       "      <th>...</th>\n",
       "      <td>...</td>\n",
       "      <td>...</td>\n",
       "      <td>...</td>\n",
       "      <td>...</td>\n",
       "    </tr>\n",
       "    <tr>\n",
       "      <th>nob</th>\n",
       "      <td>,</td>\n",
       "      <td>og</td>\n",
       "      <td>de</td>\n",
       "      <td>3539308</td>\n",
       "    </tr>\n",
       "    <tr>\n",
       "      <th>nob</th>\n",
       "      <td>,</td>\n",
       "      <td>og</td>\n",
       "      <td>jeg</td>\n",
       "      <td>3582173</td>\n",
       "    </tr>\n",
       "    <tr>\n",
       "      <th>nob</th>\n",
       "      <td>,</td>\n",
       "      <td>og</td>\n",
       "      <td>at</td>\n",
       "      <td>3669361</td>\n",
       "    </tr>\n",
       "    <tr>\n",
       "      <th>nob</th>\n",
       "      <td>,</td>\n",
       "      <td>og</td>\n",
       "      <td>han</td>\n",
       "      <td>4108983</td>\n",
       "    </tr>\n",
       "    <tr>\n",
       "      <th>nob</th>\n",
       "      <td>,</td>\n",
       "      <td>og</td>\n",
       "      <td>det</td>\n",
       "      <td>8553480</td>\n",
       "    </tr>\n",
       "  </tbody>\n",
       "</table>\n",
       "<p>4752069 rows × 4 columns</p>\n",
       "</div>"
      ],
      "text/plain": [
       "     1   2    3        4\n",
       "0                       \n",
       "nno  !  og    !        4\n",
       "nno  !  og    /        4\n",
       "nno  !  og   60        4\n",
       "nno  !  og   70        4\n",
       "nno  !  og   De        4\n",
       "..  ..  ..  ...      ...\n",
       "nob  ,  og   de  3539308\n",
       "nob  ,  og  jeg  3582173\n",
       "nob  ,  og   at  3669361\n",
       "nob  ,  og  han  4108983\n",
       "nob  ,  og  det  8553480\n",
       "\n",
       "[4752069 rows x 4 columns]"
      ]
     },
     "execution_count": 157,
     "metadata": {},
     "output_type": "execute_result"
    }
   ],
   "source": [
    "bøker"
   ]
  },
  {
   "cell_type": "code",
   "execution_count": 84,
   "id": "853988a3-4e7e-4869-9303-bf224f4445cb",
   "metadata": {},
   "outputs": [],
   "source": [
    "aviser.columns = ['first', 'coord', 'third', 'freq']"
   ]
  },
  {
   "cell_type": "code",
   "execution_count": 91,
   "id": "4de73006-7e78-4b19-97e3-484575732ea8",
   "metadata": {},
   "outputs": [],
   "source": [
    "bok = bøker.groupby(['first', 'coord', 'third']).sum('freq').reset_index()"
   ]
  },
  {
   "cell_type": "code",
   "execution_count": 108,
   "id": "67d011cd-9e56-441a-8893-96c0be25f2ae",
   "metadata": {},
   "outputs": [],
   "source": [
    "bok_avis = pd.concat([aviser, bok]).groupby(['first', 'coord', 'third']).sum('freq').reset_index()"
   ]
  },
  {
   "cell_type": "code",
   "execution_count": 150,
   "id": "7847ebbb-4fb3-4273-89fe-ba4eefd5b1dc",
   "metadata": {},
   "outputs": [],
   "source": [
    "bok_avis.columns = ['first', 'coord', 'second', 'freq']"
   ]
  },
  {
   "cell_type": "markdown",
   "id": "04e1f4a0-565c-4dda-985a-d21d0ddc5a0a",
   "metadata": {},
   "source": [
    "bok_avis.to_csv('avis_bøker_tre_kolonner.csv')"
   ]
  },
  {
   "cell_type": "markdown",
   "id": "8340e15d-b1e4-49cf-9888-e16adbb01454",
   "metadata": {},
   "source": [
    "# write"
   ]
  },
  {
   "cell_type": "code",
   "execution_count": 113,
   "id": "974d6215-41fa-40fd-bbb5-f0c4ab831c42",
   "metadata": {},
   "outputs": [],
   "source": [
    "def create_database_from_df(db, df):\n",
    "    \"\"\"\n",
    "        db is the name of an empty database, df is a dataframe with columns named first, second, freq\n",
    "        A table named ngram is created with two secondary tables\n",
    "    \"\"\"\n",
    "    print('creating database from dataframe')\n",
    "    with sqlite3.connect(db) as con:\n",
    "        bok_avis[['first','second','freq']].to_sql('ngram', con)\n",
    "    print('indexing main table')\n",
    "    query(db, \"create index '_ft_' on ngram (first, second)\")\n",
    "    query(db, \"create index '_tf_' on ngram (second, first)\")\n",
    "    query(db, \"create table firstfreq (first varchar, freq int)\")\n",
    "    query(db, \"create table secondfreq (second varchar, freq int)\")\n",
    "    query(db, \"insert into firstfreq select first, sum(freq) from ngram group by first\")\n",
    "    query(db, \"insert into secondfreq select second, sum(freq) from ngram group by second\")\n",
    "    print('indexing secondary tables')\n",
    "    query(db, \"create index _ff_ on firstfreq (first, freq)\")\n",
    "    query(db, \"create index _ftf_ on secondfreq (second, freq)\")"
   ]
  },
  {
   "cell_type": "code",
   "execution_count": 113,
   "id": "da5bbef5-1d57-4423-b207-c85bb504457f",
   "metadata": {},
   "outputs": [],
   "source": [
    "def make_galaxy(db):\n",
    "    print('create galaxies')\n",
    "    query(db, \"create table galaxy (first varchar, second varchar, freq int, pmi float)\")\n",
    "    query(db, \"insert into galaxy select  a.first, a.second, sum(a.freq) as f, pow(a.freq,2)*1.0/ (f.freq * t.freq) as pmi from trigrambook as a, firstfreq as f, thirdfreq as t where a.first = f.first and a.second = t.second group by a.first, a.second\")\n",
    "    print('indexin galaxies')\n",
    "    query(db, \"create index _gftp_ on galaxy (first, pmi)\")\n",
    "    query(db, \"create index _gtfp_ on galaxy (second, pmi)\")"
   ]
  },
  {
   "cell_type": "code",
   "execution_count": 143,
   "id": "b148ec65-ed72-44d8-9ce7-904690b3dcb0",
   "metadata": {},
   "outputs": [
    {
     "data": {
      "text/plain": [
       "[]"
      ]
     },
     "execution_count": 143,
     "metadata": {},
     "output_type": "execute_result"
    }
   ],
   "source": [
    "query(db_all, \"create table galaxy (first varchar, third varchar, freq int, pmi float)\")"
   ]
  },
  {
   "cell_type": "code",
   "execution_count": 148,
   "id": "2cfc3c33-c3ab-44dc-8839-6f0d74df3f1c",
   "metadata": {},
   "outputs": [
    {
     "data": {
      "text/plain": [
       "[]"
      ]
     },
     "execution_count": 148,
     "metadata": {},
     "output_type": "execute_result"
    }
   ],
   "source": [
    "query(db_all, \"create index _gftpmi_ on galaxy (first, pmi)\")\n",
    "query(db_all, \"create index _gtfpmi_ on galaxy (third, pmi)\")"
   ]
  },
  {
   "cell_type": "code",
   "execution_count": 144,
   "id": "4380b5d1-6598-48a5-bcb6-36d2bae280ac",
   "metadata": {},
   "outputs": [
    {
     "data": {
      "text/plain": [
       "[]"
      ]
     },
     "execution_count": 144,
     "metadata": {},
     "output_type": "execute_result"
    }
   ],
   "source": [
    "query(db_all, \"insert into galaxy select  a.first, a.third, sum(a.freq) as f, pow(a.freq,2)*1.0/ (f.freq * t.freq) as pmi from trigrambook as a, firstfreq as f, thirdfreq as t where a.first = f.first and a.third = t.third group by a.first, a.third\")"
   ]
  },
  {
   "cell_type": "code",
   "execution_count": 114,
   "id": "8b115553-c3f4-49ad-a83e-63d5afec367b",
   "metadata": {},
   "outputs": [
    {
     "name": "stdout",
     "output_type": "stream",
     "text": [
      "indexing main table\n",
      "indexing secondary tables\n"
     ]
    }
   ],
   "source": [
    "index_db(db_all)"
   ]
  },
  {
   "cell_type": "code",
   "execution_count": 122,
   "id": "34790c0c-1580-4c57-aa16-7e4ad3f8015a",
   "metadata": {},
   "outputs": [],
   "source": [
    "check = lambda x:query(db_all, \"select  a.first, a.third, sum(a.freq) as f, pow(a.freq,2)*1.0/ (f.freq * t.freq) as pmi from trigrambook as a, firstfreq as f, thirdfreq as t where a.first = f.first and a.third = t.third and a.first = ? group by a.first, a.third order by pmi desc limit 50\",(x,))"
   ]
  },
  {
   "cell_type": "code",
   "execution_count": 125,
   "id": "d99e655b-5366-48b3-bfbf-5753ba6ef8db",
   "metadata": {},
   "outputs": [],
   "source": [
    "check2 = lambda x:query(db_all, \"select  a.first, a.third, sum(a.freq), pow(a.freq,2)*1.0/ (f.freq * t.freq) as pmi from trigrambook as a, firstfreq as f, thirdfreq as t where a.first = f.first and a.third = t.third and a.third = ? group by a.first, a.third order by pmi desc limit 50\",(x,))"
   ]
  },
  {
   "cell_type": "code",
   "execution_count": 117,
   "id": "f967f5f3-dd93-4c44-b21a-0a4c42ea9950",
   "metadata": {},
   "outputs": [
    {
     "data": {
      "text/plain": [
       "[(4729431, 'nno', 'is', 'snø', 1435), (4749368, 'nob', 'is', 'snø', 8593)]"
      ]
     },
     "execution_count": 117,
     "metadata": {},
     "output_type": "execute_result"
    }
   ],
   "source": [
    "query(db, \"select * from galakse where first = 'is' and third = 'snø'\")"
   ]
  },
  {
   "cell_type": "code",
   "execution_count": 141,
   "id": "5c3a359d-4911-44ac-ade6-53147fac7621",
   "metadata": {},
   "outputs": [
    {
     "data": {
      "text/plain": [
       "[('helse', 'omsorg', 85623, 0.018069636724731684),\n",
       " ('helse', 'velferd', 28810, 0.011432093425866532),\n",
       " ('helse', 'sosial', 53598, 0.010416164728292683),\n",
       " ('helse', 'velvære', 20357, 0.00503860941027041),\n",
       " ('helse', 'trivsel', 25729, 0.004762271043125511),\n",
       " ('helse', 'livsstil', 11363, 0.0037807265410391023),\n",
       " ('helse', 'livskvalitet', 10327, 0.0034290689333111705),\n",
       " ('helse', 'førlighet', 2758, 0.0027973745797822223),\n",
       " ('helse', 'sunnhet', 4582, 0.0022112458516385055),\n",
       " ('helse', 'rus', 6755, 0.0021672395029954435),\n",
       " ('helse', 'miljø', 22150, 0.001548633716773125),\n",
       " ('helse', 'sykdom', 10077, 0.0014970919809393992),\n",
       " ('helse', 'sosialfag', 8879, 0.0011454073958854702),\n",
       " ('helse', 'eldreomsorg', 4560, 0.0008093670047256793),\n",
       " ('helse', 'sikkerhet', 12205, 0.0006939411295568541),\n",
       " ('helse', 'vandel', 3956, 0.0006388881173109643),\n",
       " ('helse', 'sosialsektoren', 7871, 0.0006001388750599464),\n",
       " ('helse', 'utdanning', 9657, 0.000582694593505117),\n",
       " ('helse', 'hygiene', 3205, 0.0005187517705365919),\n",
       " ('helse', 'velbefinnende', 1038, 0.0005077268002482041),\n",
       " ('helse', 'tuberkulinforhold', 537, 0.0005035381566445743),\n",
       " ('helse', 'arbeidsmiljø', 4169, 0.0004796158409371481),\n",
       " ('helse', 'sosialsaker', 2242, 0.0004592309244004874),\n",
       " ('helse', 'sosialsjef', 6212, 0.00045148308586551915),\n",
       " ('helse', 'sosiale', 13342, 0.000437701899248503),\n",
       " ('helse', 'figursalong', 487, 0.0004275285621135707),\n",
       " ('helse', 'ernæring', 2860, 0.00037810976262403343),\n",
       " ('helse', 'sosialutvalget', 3663, 0.00033053726510553426),\n",
       " ('helse', 'levedager', 237, 0.000330244088003779),\n",
       " ('helse', 'sosialfaglig', 2762, 0.00033014532973920865),\n",
       " ('helse', 'sosialstyret', 4844, 0.0002936276523232154),\n",
       " ('helse', 'uhelse', 357, 0.0002935403199218442),\n",
       " ('helse', 'framferd', 866, 0.00028931752954633417),\n",
       " ('helse', 'levealder', 500, 0.000261923866631594),\n",
       " ('helse', 'forlighet', 197, 0.00025751341794934013),\n",
       " ('helse', 'sosialetaten', 4268, 0.00025351890390338025),\n",
       " ('helse', 'oppvekst', 3555, 0.0002513669529932558),\n",
       " ('helse', 'omsorgssektoren', 2940, 0.0002144028501645119),\n",
       " ('helse', 'kosthold', 1830, 0.0002138524528042134),\n",
       " ('helse', 'samfunnsmedisin', 780, 0.00020880931922169477),\n",
       " ('helse', 'livsstilskonsept', 141, 0.0001964743308376913),\n",
       " ('helse', 'arbeidsevne', 1121, 0.00019477725414227567),\n",
       " ('helse', 'velvaere', 466, 0.00018690102807262032),\n",
       " ('helse', 'sykea', 132, 0.0001839334161033706),\n",
       " ('helse', 'funksjonsevne', 530, 0.0001836770920731368),\n",
       " ('helse', 'helseatferd', 213, 0.00017908994667340157),\n",
       " ('helse', 'skole', 6148, 0.00017854537370698198),\n",
       " ('helse', 'rustjenester', 180, 0.0001697266655772729),\n",
       " ('helse', 'forebygge', 1405, 0.00015481064090510694),\n",
       " ('helse', 'plettfri', 492, 0.00015084992964860917)]"
      ]
     },
     "execution_count": 141,
     "metadata": {},
     "output_type": "execute_result"
    }
   ],
   "source": [
    "check('helse')"
   ]
  },
  {
   "cell_type": "code",
   "execution_count": 45,
   "id": "df48deec-7f3c-42ea-95a9-0582b34e484c",
   "metadata": {},
   "outputs": [
    {
     "data": {
      "text/plain": [
       "[('spiser', 'drikker', 9166, 17552, 49439),\n",
       " ('spiser', 'sover', 1664, 17552, 30979),\n",
       " ('spiser', 'spiser', 673, 17552, 47566),\n",
       " ('spiser', 'hvordan', 360, 17552, 701901),\n",
       " ('spiser', 'hvor', 312, 17552, 827034),\n",
       " ('spiser', 'lever', 289, 17552, 45866),\n",
       " ('spiser', 'snakker', 248, 17552, 73789),\n",
       " ('spiser', 'koser', 221, 17552, 4015),\n",
       " ('spiser', 'blir', 213, 17552, 522969),\n",
       " ('spiser', 'hva', 180, 17552, 727677),\n",
       " ('spiser', 'ikke', 178, 17552, 2699912),\n",
       " ('spiser', 'drikker', 175, 17552, 49439),\n",
       " ('spiser', 'prater', 175, 17552, 18255),\n",
       " ('spiser', 'vokser', 159, 17552, 18538),\n",
       " ('spiser', 'ser', 157, 17552, 624375),\n",
       " ('spiser', 'når', 149, 17552, 825050),\n",
       " ('spiser', 'går', 145, 17552, 427766),\n",
       " ('spiser', 'er', 119, 17552, 1976015),\n",
       " ('spiser', 'har', 108, 17552, 1724528),\n",
       " ('spiser', 'det', 101, 17552, 12381634),\n",
       " ('spiser', 'hviler', 95, 17552, 10433),\n",
       " ('spiser', 'tar', 87, 17552, 295266),\n",
       " ('spiser', 'gjør', 80, 17552, 283196),\n",
       " ('spiser', 'legger', 80, 17552, 184058),\n",
       " ('spiser', 'jeg', 78, 17552, 5344062),\n",
       " ('spiser', 'hygger', 71, 17552, 724),\n",
       " ('spiser', 'ler', 67, 17552, 51616),\n",
       " ('spiser', 'de', 64, 17552, 6027251),\n",
       " ('spiser', 'den', 64, 17552, 5005294),\n",
       " ('spiser', 'så', 64, 17552, 6358853),\n",
       " ('spiser', 'bor', 62, 17552, 32900),\n",
       " ('spiser', 'leser', 57, 17552, 46895),\n",
       " ('spiser', 'får', 55, 17552, 326813),\n",
       " ('spiser', 'arbeider', 54, 17552, 43511),\n",
       " ('spiser', 'nyter', 54, 17552, 7372),\n",
       " ('spiser', 'vannet', 53, 17552, 44299),\n",
       " ('spiser', 'at', 52, 17552, 5291693),\n",
       " ('spiser', 'fordøyer', 51, 17552, 210),\n",
       " ('spiser', 'danser', 50, 17552, 13085),\n",
       " ('spiser', 'vi', 47, 17552, 1915244),\n",
       " ('spiser', 'kler', 45, 17552, 4556),\n",
       " ('spiser', 'hvem', 40, 17552, 166613),\n",
       " ('spiser', 'tenker', 40, 17552, 92123),\n",
       " ('spiser', 'som', 36, 17552, 4006072),\n",
       " ('spiser', 'om', 35, 17552, 1354279),\n",
       " ('spiser', 'sier', 34, 17552, 292292),\n",
       " ('spiser', 'kan', 31, 17552, 992605),\n",
       " ('spiser', 'leker', 31, 17552, 17941),\n",
       " ('spiser', 'puster', 31, 17552, 10325),\n",
       " ('spiser', 'tygger', 30, 17552, 3886)]"
      ]
     },
     "execution_count": 45,
     "metadata": {},
     "output_type": "execute_result"
    }
   ],
   "source": [
    "query(db, \"select  a.first, a.third, a.freq,  f.freq, t.freq from galakse as a, firstfreq as f, thirdfreq  t where a.first = f.first and a.third = t.third and a.first = 'spiser' order by a.freq desc limit 50 \")"
   ]
  },
  {
   "cell_type": "code",
   "execution_count": null,
   "id": "5d02af26-f312-4f88-8f62-f8ef60dd2483",
   "metadata": {},
   "outputs": [],
   "source": []
  }
 ],
 "metadata": {
  "kernelspec": {
   "display_name": "Python 3",
   "language": "python",
   "name": "python3"
  },
  "language_info": {
   "codemirror_mode": {
    "name": "ipython",
    "version": 3
   },
   "file_extension": ".py",
   "mimetype": "text/x-python",
   "name": "python",
   "nbconvert_exporter": "python",
   "pygments_lexer": "ipython3",
   "version": "3.8.1"
  }
 },
 "nbformat": 4,
 "nbformat_minor": 5
}
