{
 "cells": [
  {
   "cell_type": "markdown",
   "id": "50d67f5b-9c56-4815-8f63-daae7d6716c9",
   "metadata": {},
   "source": [
    "# Creating graphs\n",
    "\n",
    "From a csv file with at least three columns, two with words and one with a frequency. "
   ]
  },
  {
   "cell_type": "code",
   "execution_count": 1,
   "id": "f65b1c2b-c737-4ff7-8ac5-1c17d227b57f",
   "metadata": {},
   "outputs": [],
   "source": [
    "import sqlite3\n",
    "import pandas as pd\n",
    "import networkx as nx\n",
    "import dhlab.graph_networkx_louvain as gnl"
   ]
  },
  {
   "cell_type": "markdown",
   "id": "295befcb-5cdc-4241-8f80-433abf212252",
   "metadata": {},
   "source": [
    "# Functions "
   ]
  },
  {
   "cell_type": "code",
   "execution_count": 2,
   "id": "1d3411f6-2fd3-4a75-9a05-a9d1c4e3a11b",
   "metadata": {},
   "outputs": [],
   "source": [
    "def query(db, sql, param=()):\n",
    "    \"\"\" Query a sqlitedatabase with sql and param\"\"\"\n",
    "    with sqlite3.connect(db) as con:\n",
    "        cur = con.cursor()\n",
    "        cur.execute(sql, param)\n",
    "    return cur.fetchall()"
   ]
  },
  {
   "cell_type": "code",
   "execution_count": 3,
   "id": "b8b2e9c0-8ed7-4c27-908b-bf1af445800d",
   "metadata": {},
   "outputs": [],
   "source": [
    "def check_graph_first(db, x, top = 20):\n",
    "    return query(db, \"select * from word_graph where first = ? order by pmi desc limit ?\", (x, top))\n",
    "def check_graph_second(db, x, top = 20):\n",
    "    return query(db, \"select * from word_graph where second = ? order by pmi desc limit ?\", (x, top))"
   ]
  },
  {
   "cell_type": "markdown",
   "id": "8c41f8b2-8c42-4169-8800-fcb83adcf06b",
   "metadata": {},
   "source": [
    "# Querying word graphs\n",
    "\n",
    "The table of word pairs is computed using the ngram-table and named word_graph. Indexed and ready to use.\n",
    "\n",
    "The columns of the word_graph table are first, second, freq, pmi where freq contains the original frequencies, and pmi is the computed association value, using the following formula:\n",
    "\n",
    "$$\\frac{\\textrm{freq}(x,y)^2}{\\textrm{freq}(x)*\\textrm{freq}(y)}$$\n",
    " \n",
    "The frequency is squared to give the cooccurence frequency a higher weight. The marginals freq(x) are aggregated from the word positions. For each word  𝑤  it is associated with two frequencies, one frequency from the occurence in the first column, and one from the second column.\n",
    "\n"
   ]
  },
  {
   "cell_type": "code",
   "execution_count": 7,
   "id": "4381f156-5013-422c-be43-f6efc0f63792",
   "metadata": {},
   "outputs": [],
   "source": [
    "word_graphs = \"c://Users/yoons/Documents/word_graph_database/book_news_word_pairs.db\""
   ]
  },
  {
   "cell_type": "code",
   "execution_count": 35,
   "id": "3430915d-8dc9-4e37-aa82-238c0ca15142",
   "metadata": {},
   "outputs": [],
   "source": [
    "def expand(db, x, top = 30):\n",
    "    a = check_graph_first(db, x, top)\n",
    "    b = check_graph_second(db, x, top)\n",
    "    words = {x[1] for x in a} | {x[0] for x in b} - {x}\n",
    "    G = a + b\n",
    "    for word in words:\n",
    "        G += check_graph_first(db, word, top) + check_graph_second(db, word, top)\n",
    "    return G\n",
    "\n",
    "def expandall(db, xs, top = 30):\n",
    "    return  list({edge for x in xs for edge in expand(db, x, top)})\n",
    "            \n",
    "            \n"
   ]
  },
  {
   "cell_type": "code",
   "execution_count": 59,
   "id": "77f3741e-8796-4880-819c-d9527f5eb039",
   "metadata": {},
   "outputs": [],
   "source": [
    "w = ['sorg']\n",
    "edges = [tuple(x[:3]) for x in expandall(word_graphs, w, top = 20)]\n",
    "g = nx.DiGraph()\n",
    "g.add_weighted_edges_from(edges)\n",
    "g = g.subgraph([n for n,d in g.out_degree() if d > 0])"
   ]
  },
  {
   "cell_type": "markdown",
   "id": "70b091b9-deac-44ef-912b-2ad823333ad0",
   "metadata": {},
   "source": [
    "gnl.show_graph(g, spread = .8)"
   ]
  },
  {
   "cell_type": "code",
   "execution_count": 60,
   "id": "be32b8e9-d060-466a-966f-4427ad83c01f",
   "metadata": {},
   "outputs": [
    {
     "name": "stdout",
     "output_type": "stream",
     "text": [
      "savn-sakn :  savn, sakn, nød, sut, sorgreaksjoner, Sorg, slit, naud, elendighet, armod, tomrom, harm, trengsel, længsel, fattigdom, sult, svolt, tomhet, einsemd, krise, fortviling, hunger, tap, sorger, lengsler, kjærleik, lideiser, lidelser, otte, strev, krise-, forsakelse, kriser, Tapsopplevelser, krig, gleda, sorg-, traumer, våde, Kriser, togn, sedløyse, lidingar, svevnløyse, Sult, sæla, frygd, misvækst, barn, Hyst, taps-, gjerdene, Syt, Myst, lyst, forsaking, arbeidsløshet, Lengsel, misvekst, Tap, stiene, Krise-, nod, tap-, Personbeundring, Krise\n",
      "\n",
      "sorg-skuffelse :  sorg, skuffelse, fortvilelse, smerte, tristhet, sinne, vemod, sjokk, Glede, utopi, sorgarbeid, Sjokk, angst, raseri, redsel, irritasjon, bitterhet, frustrasjon, frykt, lengsel, vantro, ensomhet, oppgitthet, ergrelse, melankoli, håp, undring, mismot, vantru, håpløshet, tungsinn, virkelighet, nedtrykthet, blodtap, nedstemthet, übehag, avmakt, gråhet, desperasjon, ærgrelse, hevelse, besøkstjeneste, misnøye, vanntro, Fryd, nytelse, motløshet, brannskader, aggresjon, vemmelse, dystopi, utmattelse, ettertanke, ubehag, depresjon, humor, forbløffelse, argskap, ,, Vantro, hissighet, kuttskader, drøm, sjalusi, Sjarm, blodtrykksfall, Nytte, hverdag, graahet, Drøm, Irritasjon, begravelser, bekymrings-, Hjerte, tort, nyteise, Bitterhet, Aggresjon, Liv, Opplevelse, sosiologi, Fred, skinsyke, Ungdom, hypovolemi, Sinne, nostalgi, trass, Übehag, Hjertesvikt, Sårhet, Sosiologi, samvittigheten, overveldelse, ømhet, Frid, lårbeinsbrudd, Varden, svie, Hypotensjon, Ironi, politikk, bekymringsarbeid, Kjerlighed, Ideologi, Gavn, Stordom, Perfeksjonisme, ideologi, Maktesløshet, Gagn, munterhet, sårhet, ideal, Forundring, sjelesorg, Lyst, Sjelesorg, Trygghet, Motsykdom, tristesse, skrubbsår, Lyft, Trost, Frustrasjon, Sansefunksjoner, forfrysninger, Fest, hypotensjon, Depresjon\n",
      "\n",
      "forferdelse-bekymring :  forferdelse, bekymring, harme, bedrøvelse, beklagelse, saknad, kvide, gremmelse, forbauselse, avsky, forundring, indignasjon, anger, forargelse, forbitrelse, engstelse, bestyrtelse, gru, lengt, forstemthet, uro, indignation, jammer, opsikt, unnskyldning, grubling, undskyldning, ængstelse, innrømmelse, oppsikt, beriktigelse, røde, usikkerhet, rettelse, tilbakekallelse, skrekk, sorte, dementi, vrede, kval, forklaring, angest, strid, sørjd, gruff, verk, rode, kummer, makt, Anger, noen, Røde, underrepresentasjon, syndeangst, innmelding, Henvendelse, mildhet, afsky, Innmelding, lengtad, Overarbeid, trege, sår, Uro, beven, ubehagelighet, vreide, Engstelse, Grubling, tvil, tretthet\n",
      "\n",
      "lidelse-ulykke :  lidelse, ulykke, sykdom, død, fornedrelse, forfølgelse, Lykke, ruin, vanskjebne, luksusproduksjon, skade, kamp, geni, Ecstasy, Smerte, Død, lykke-, Sykdom, lykke, vanhell, selvfornedrelse, skjændsel, serienederlag, selvmord, Livsmot, uhell\n",
      "\n",
      "synd-skam :  synd, skam, ondskap, misgjerning, urenhet, verdslighet, fristelse, uverdighet, skyld, vondskap, ufullkommenhet, ufuldkommenhet, bort, umoral, overtredelse, Gilgal, overtrædelse, selviskhet, skrøpelighet, daarskap, egenvilje\n",
      "\n",
      "motgang-liding :  motgang, liding, trengsler, vanskar, skuffelser, vanskeligheter, sjelekval, prøvelser, medgang, Medgang, krænkelser, Omstendigheter, Skuffelser, trængfel, Ydmykelser, Med-, klunder, mebgang, med-, miskjendelse\n",
      "\n",
      "glede-overraskelse :  glede, overraskelse, lettelse, takknemlighet, stolthet, forventning, tilfredshet, takksemd, gagn, gavn, fryd, jubel, hygge, nytte, smil, fest, herlighet, latter, fryde, Godhet, kåthet\n",
      "\n"
     ]
    }
   ],
   "source": [
    "gnl.show_communities(g)"
   ]
  },
  {
   "cell_type": "code",
   "execution_count": 61,
   "id": "0860a4ae-683a-429b-aeeb-934d1b7a60e3",
   "metadata": {},
   "outputs": [
    {
     "name": "stdout",
     "output_type": "stream",
     "text": [
      "(3, 1) sykdom, ergrelse, angst, forstemthet, forundring, fornedrelse, forbauselse, opsikt, engstelse, sut, sorger, takksemd, bestyrtelse, irritasjon, vemod, kvide, forargelse, oppgitthet, tristhet, sult, raseri, lengsel, frustrasjon, forferdelse, slit, Sorg, bedrøvelse, bitterhet, gremmelse, håpløshet, forbitrelse, motgang, sinne, synd, redsel, længsel, naud, ulykke, bekymring, nød, indignasjon, frykt, død, undring, melankoli, sakn, overraskelse, skam, sorg, smerte, mismot, jammer, saknad, lettelse, vantro, glede, harme, gagn, oppsikt, gavn, humor, ærgrelse, beklagelse, avsky, sjokk, lidelse, fortvilelse, tomhet, Glede, skuffelse, argskap, forbløffelse, harm, savn, elendighet, ensomhet, Sjokk, armod, tungsinn, takknemlighet\n",
      "\n",
      "(3, 2) krise-, sorgreaksjoner, krise, sorg, Sorg, død, kriser, ,, sorgarbeid\n",
      "\n",
      "(4, 1) sykdom, ulykke, angst, bekymring, forundring, forbauselse, nød, indignasjon, frykt, undring, forargelse, sakn, oppgitthet, vemod, overraskelse, sorg, smerte, tristhet, mismot, raseri, lengsel, frustrasjon, forferdelse, harme, glede, bedrøvelse, bitterhet, beklagelse, sjokk, lidelse, fortvilelse, skuffelse, gremmelse, savn, forbitrelse, motgang, elendighet, sinne, Sjokk, ensomhet, redsel\n",
      "\n",
      "(5, 1) forferdelse, harme, bekymring, bedrøvelse, frykt, sjokk, fortvilelse, skuffelse, oppgitthet, sorg, smerte, tristhet, sinne, Sjokk, redsel, raseri\n",
      "\n",
      "(6, 1) skuffelse, sinne, sorg, bedrøvelse, tristhet, fortvilelse\n",
      "\n",
      "(6, 2) skuffelse, forferdelse, harme, sorg, bedrøvelse, fortvilelse\n",
      "\n",
      "(6, 3) sinne, sorg, smerte, bedrøvelse, fortvilelse, sjokk\n",
      "\n"
     ]
    }
   ],
   "source": [
    "gnl.show_cliques(g)"
   ]
  },
  {
   "cell_type": "code",
   "execution_count": null,
   "id": "a2c50d03-d415-4e97-b2ec-e01a0ed41bef",
   "metadata": {},
   "outputs": [],
   "source": []
  }
 ],
 "metadata": {
  "kernelspec": {
   "display_name": "Python 3",
   "language": "python",
   "name": "python3"
  },
  "language_info": {
   "codemirror_mode": {
    "name": "ipython",
    "version": 3
   },
   "file_extension": ".py",
   "mimetype": "text/x-python",
   "name": "python",
   "nbconvert_exporter": "python",
   "pygments_lexer": "ipython3",
   "version": "3.8.10"
  }
 },
 "nbformat": 4,
 "nbformat_minor": 5
}
